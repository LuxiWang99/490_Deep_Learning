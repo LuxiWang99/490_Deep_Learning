{
 "cells": [
  {
   "cell_type": "markdown",
   "metadata": {},
   "outputs": [],
   "source": [
    "# Classical Music classification using neural networks\n"
   ]
  },
  {
   "cell_type": "code",
   "execution_count": 0,
   "metadata": {},
   "outputs": [],
   "source": [
    "from tensorflow import keras\n",
    "from tensorflow.keras import layers\n",
    "import numpy as np\n",
    "from keras.models import Sequential\n",
    "from keras.layers import Dense, Activation, Flatten, LSTM\n",
    "import pickle \n",
    "import os\n",
    "import librosa\n",
    "from spectogram_dataloader import SpectogramDataLoader"
   ]
  },
  {
   "cell_type": "code",
   "execution_count": 0,
   "metadata": {},
   "outputs": [],
   "source": [
    "# SR=44100\n",
    "# sentence_length = 60\n",
    "# BATCH_SIZE=15\n",
    "# WORD_SIZE = 4 * SR\n",
    "# EPOCH = 3"
   ]
  },
  {
   "cell_type": "code",
   "execution_count": 0,
   "metadata": {},
   "outputs": [],
   "source": [
    "# def wav2sentences(nums, label):\n",
    "#   length = sentence_length * SR\n",
    "#   final = [nums[i * length:(i + 1) * length] for i in range((len(nums) + length - 1) // length )][:-1]\n",
    "#   if len(final) >= 1\n",
    "#     labels = [label for i in range(len(final))]\n",
    "#     final = np.array(final)\n",
    "#     final = final.reshape(final.shape[0], -1, WORD_SIZE)\n",
    "#     return final, labels\n",
    "#   return [], []\n",
    "\n",
    "# # target_path is the csv/pickle file that strores the trackID -> label\n",
    "\n",
    "# def process_data(src, target_path):\n",
    "#   X = []\n",
    "#   y = []\n",
    "#   with open(target_path, 'rb') as handle:\n",
    "#     id2label = pickle.load(handle)\n",
    "#   for root, dirs, files in os.walk(src):\n",
    "#     for file in files:\n",
    "#       x, sr = librosa.load(os.path.join(root, file), sr=SR)\n",
    "#       filename, file_ext = os.path.splitext(file)\n",
    "#       X_temp, y_temp = wav2sentences(x, id2label[int(filename)])\n",
    "#       for x in X_temp:\n",
    "#         X.append(x)\n",
    "#       for label in y_temp:\n",
    "#         y.append(label)\n",
    "#   d = {\"data\": X, \"label\": y}\n",
    "#   with open(\"data.pickle\", 'wb') as handle:\n",
    "#     pickle.dump(d, handle)\n",
    "# process_data(\"./musicnet/wav\", \"./musicnet/musicnet_labels.pkl\")"
   ]
  },
  {
   "cell_type": "code",
   "execution_count": 0,
   "metadata": {},
   "outputs": [],
   "source": [
    "# with open(\"./data.pickle\", 'rb') as handle:\n",
    "#   d = pickle.load(handle)\n",
    "\n",
    "# X = d[\"data\"]\n",
    "# y = d[\"label\"]\n",
    "\n",
    "# num_label = len(set(y))\n",
    "# labels = list(set(y))\n",
    "# labels2ind = {}\n",
    "\n",
    "# for index in range(len(labels)):\n",
    "#   labels2ind.update({labels[index]: index}) \n",
    "\n",
    "# y = [labels2ind[a] for a in y]\n",
    "\n",
    "# X = np.array(X)\n",
    "# y = np.array(y)\n",
    "\n",
    "# Suppose we have a working X, and y, both 2D\n",
    "\n",
    "# X = X.reshape((-1, sentence_length // 4, WORD_SIZE))\n",
    "# # y = y.reshape((-1, )\n",
    "\n",
    "# X_train = X[:int(X.shape[0] * 0.8)]\n",
    "# X_test = X[int(X.shape[0] * 0.8):]\n",
    "\n",
    "# y_train = y[:int(X.shape[0] * 0.8)]\n",
    "# y_test = y[int(X.shape[0] * 0.8):]\n"
   ]
  },
  {
   "cell_type": "code",
   "execution_count": 0,
   "metadata": {},
   "outputs": [],
   "source": [
    "LENGTH=3 * 44100\n",
    "def get_model():\n",
    "    model = Sequential()\n",
    "    model.add(LSTM(1025, input_shape=(1025, 259), return_sequences=True))\n",
    "    model.add(Flatten())\n",
    "    model.add(Dense(4, activation='sigmoid'))\n",
    "    model.compile(loss='sparse_categorical_crossentropy', optimizer='adam', metrics=['accuracy'])\n",
    "    return model\n",
    "\n",
    "def train(model, train_generator, EPOCHS=20):\n",
    "    model.fit_generator(generator=train_generator, epochs=EPOCHS)\n",
    "\n",
    "def test(model, X_test, y_test):\n",
    "    num_corr = 0\n",
    "    for id, source in X_test.items():\n",
    "        splitted = [X_test[id][i * length : (i + 1) * length] for i in range((len(X_test[id]) + length) // length)][:-1]\n",
    "        label = y_test[id]\n",
    "        prediction = model.predict(splitted)\n",
    "        counts = np.bincount(prediction)\n",
    "        predict_label = np.argmax(counts)\n",
    "        if predict_label == label:\n",
    "            num_corr += 1\n",
    "    return float(num_corr) / len(X_test)\n",
    "\n",
    "def get_test_data(test_dir, labels_dict):\n",
    "    X_test = {}\n",
    "    y_test = {}\n",
    "    mappings = [\"Bar\", \"Cla\", \"Rom\", \"Mod\"]\n",
    "\n",
    "    for root, dirs, files in os.walk(test_dir):\n",
    "        for file in files:\n",
    "            if file.endswith(\".npy\"):\n",
    "                x_ = np.load(os.path.join(root, file))\n",
    "                x_id = os.path.splitext(file)[0]\n",
    "                X_test[x_id] = x_\n",
    "                y_test[x_id] = mappings.index(labels_dict[int(x_id)])\n",
    "    return X_test, y_test"
   ]
  },
  {
   "cell_type": "code",
   "execution_count": 0,
   "metadata": {},
   "outputs": [],
   "source": [
    "data_path = '/Users/estberg/Projects/490F/490_Deep_Learning/data/'\n",
    "train_song_ids_file = '/Users/estberg/Projects/490F/490_Deep_Learning/data/train/song_ids.pkl'\n",
    "test_song_ids_file = '/Users/estberg/Projects/490F/490_Deep_Learning/data/test/song_ids.pkl'\n",
    "labels_file = '/Users/estberg/Projects/490F/490_Deep_Learning/data/labels.pkl'\n",
    "\n",
    "with open(train_song_ids_file, 'rb') as handle:\n",
    "    train_ids = pickle.load(handle)\n",
    "\n",
    "with open(test_song_ids_file, 'rb') as handle:\n",
    "    test_ids = pickle.load(handle)\n",
    "\n",
    "with open(labels_file, 'rb') as handle:\n",
    "    labels = pickle.load(handle)"
   ]
  },
  {
   "cell_type": "code",
   "execution_count": 14,
   "metadata": {},
   "outputs": [
    {
     "name": "stdout",
     "output_type": "stream",
     "text": "(1025, 259)\n"
    }
   ],
   "source": [
    "\n",
    "train_generator = SpectogramDataLoader(train_ids, labels, \"/Users/estberg/Projects/490F/490_Deep_Learning/data/train/\", \n",
    "batch_size=64)\n",
    "print(train_generator.get_data_dim())\n",
    "X_test, y_test = get_test_data(test_dir='/Users/estberg/Projects/490F/490_Deep_Learning/data/test/', labels_dict=labels)\n",
    "model = get_model()\n",
    "train(model, train_generator)\n",
    "acc = test(model, X_test, y_test)\n",
    "\n",
    "print(\"Accuracy: %.2f%%\" % (acc*100))\n",
    "\n",
    "# scores = model.evaluate(X_test, y_test, verbose=0)\n",
    "# print(\"Accuracy: %.2f%%\" % (scores[1]*100))"
   ]
  },
  {
   "cell_type": "code",
   "execution_count": null,
   "metadata": {},
   "outputs": [],
   "source": []
  }
 ],
 "metadata": {
  "file_extension": ".py",
  "kernelspec": {
   "display_name": "Python 3",
   "language": "python",
   "name": "python3"
  },
  "language_info": {
   "codemirror_mode": {
    "name": "ipython",
    "version": 3
   },
   "file_extension": ".py",
   "mimetype": "text/x-python",
   "name": "python",
   "nbconvert_exporter": "python",
   "pygments_lexer": "ipython3",
   "version": "3.6.9"
  },
  "mimetype": "text/x-python",
  "name": "python",
  "npconvert_exporter": "python",
  "pygments_lexer": "ipython3",
  "version": 3
 },
 "nbformat": 4,
 "nbformat_minor": 2
}