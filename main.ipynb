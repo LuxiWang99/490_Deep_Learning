{
 "cells": [
  {
   "cell_type": "markdown",
   "metadata": {},
   "source": [
    "# Classical Music classification using neural networks\n"
   ]
  },
  {
   "cell_type": "code",
   "execution_count": 18,
   "metadata": {},
   "outputs": [],
   "source": [
    "import numpy as np\n",
    "import librosa\n",
    "import librosa.feature\n",
    "import librosa.display\n",
    "import glob\n",
    "import matplotlib.pyplot as plt\n",
    "from keras.models import Sequential\n",
    "\n",
    "from pathlib import Path\n",
    "from sys import argv\n",
    "import subprocess\n",
    "import shlex\n",
    "import zipfile, urllib.request, shutil\n",
    "\n",
    "import zipfile, urllib.request, shutil\n",
    "import os"
   ]
  },
  {
   "cell_type": "code",
   "execution_count": 19,
   "metadata": {},
   "outputs": [],
   "source": [
    "def display_mfcc(song):\n",
    "    y,_ = librosa.load(song)\n",
    "    mfcc = librosa.feature.mfcc(y)\n",
    "\n",
    "    plt.figure(figsize=(10, 4))\n",
    "    librosa.display.specshow(mfcc, x_axis='time', y_axis='mel')\n",
    "    plt.colorbar()\n",
    "    plt.title(song)\n",
    "    plt.tight_layout()\n",
    "    plt.show()\n",
    "\n",
    "\n",
    "def convert_all_midi_to_wav(folder_path):\n",
    "    files = [file for file in folder_path.iterdir() if file.is_file() and (\"mid\" in file.name)]\n",
    "    for (x, file) in enumerate(files):\n",
    "        without_file_extension = file.name[:-4]\n",
    "        resolved = Path(f'{folder_path}/{without_file_extension}')\n",
    "        # synth adds .mid to input file by default, so we remove it first\n",
    "        if (Path(f'{resolved}.wav').is_file() == False):\n",
    "            # Check if .wav exists, so we can safely re-run the file without re-converting\n",
    "            # any files that were already converted\n",
    "            print('Converting...', without_file_extension)\n",
    "            subprocess.call(shlex.split(f'./convert_midi_to_wav.sh {resolved}'))\n",
    "\n",
    "\n",
    "def do_recursively_on_folders(dir_path, action):\n",
    "    folders = [folder for folder in dir_path.iterdir() if folder.is_dir()]\n",
    "    for folder in folders:\n",
    "        action(folder)"
   ]
  },
  {
   "cell_type": "code",
   "execution_count": 20,
   "metadata": {},
   "outputs": [
    {
     "ename": "TypeError",
     "evalue": "display_mfcc() missing 1 required positional argument: 'song'",
     "output_type": "error",
     "traceback": [
      "\u001b[0;31m---------------------------------------------------------------------------\u001b[0m",
      "\u001b[0;31mTypeError\u001b[0m                                 Traceback (most recent call last)",
      "\u001b[0;32m<ipython-input-20-a227782646c2>\u001b[0m in \u001b[0;36m<module>\u001b[0;34m\u001b[0m\n\u001b[0;32m----> 1\u001b[0;31m \u001b[0mdisplay_mfcc\u001b[0m\u001b[0;34m(\u001b[0m\u001b[0;34m)\u001b[0m\u001b[0;34m\u001b[0m\u001b[0;34m\u001b[0m\u001b[0m\n\u001b[0m",
      "\u001b[0;31mTypeError\u001b[0m: display_mfcc() missing 1 required positional argument: 'song'"
     ]
    }
   ],
   "source": [
    "display_mfcc()"
   ]
  },
  {
   "cell_type": "code",
   "execution_count": 57,
   "metadata": {},
   "outputs": [],
   "source": [
    "# imports classical piano music from classical piano http://www.piano-midi.de/midi_files.htm\n",
    "def import_classical_piano_music():\n",
    "    urls = ['http://www.piano-midi.de/zip/albeniz.zip',\n",
    "            'http://www.piano-midi.de/zip/bach.zip',\n",
    "            'http://www.piano-midi.de/zip/balakir.zip',\n",
    "            'http://www.piano-midi.de/zip/beeth.zip',\n",
    "            'http://www.piano-midi.de/zip/borodin.zip',\n",
    "            'http://www.piano-midi.de/zip/brahms.zip',\n",
    "            'http://www.piano-midi.de/zip/burgm.zip',\n",
    "            'http://www.piano-midi.de/zip/chopin.zip',\n",
    "            'http://www.piano-midi.de/zip/debussy.zip',\n",
    "            'http://www.piano-midi.de/zip/granados.zip',\n",
    "            'http://www.piano-midi.de/zip/grieg.zip',\n",
    "            'http://www.piano-midi.de/zip/haydn.zip',\n",
    "            'http://www.piano-midi.de/zip/liszt.zip',\n",
    "            'http://www.piano-midi.de/zip/mendelssohn.zip',\n",
    "            'http://www.piano-midi.de/zip/mozart.zip',\n",
    "            'http://www.piano-midi.de/zip/muss.zip',\n",
    "            'http://www.piano-midi.de/zip/schubert.zip',\n",
    "            'http://www.piano-midi.de/zip/schumann.zip',\n",
    "            'http://www.piano-midi.de/zip/tschai.zip']\n",
    "    directory_to_unzip_to = 'PianoMidi'\n",
    "\n",
    "    for url in urls:\n",
    "        file_name = url[29:]\n",
    "        with urllib.request.urlopen(url) as response, open(file_name, 'wb') as out_file:\n",
    "            shutil.copyfileobj(response, out_file)\n",
    "            try:\n",
    "                with zipfile.ZipFile(file_name) as zf:\n",
    "                    zf.extractall(path=directory_to_unzip_to)\n",
    "                    print(\"processed: \" + file_name)\n",
    "            except zipfile.BadZipFile:\n",
    "                print(\"could not process: \" + file_name + \" (BadZipFile)\")\n",
    "        os.remove(file_name)    "
   ]
  },
  {
   "cell_type": "code",
   "execution_count": 58,
   "metadata": {},
   "outputs": [
    {
     "name": "stdout",
     "output_type": "stream",
     "text": [
      "processed: albeniz.zip\n",
      "could not process: bach.zip (BadZipFile)\n",
      "processed: balakir.zip\n",
      "processed: beeth.zip\n",
      "processed: borodin.zip\n",
      "processed: brahms.zip\n",
      "processed: burgm.zip\n",
      "processed: chopin.zip\n",
      "processed: debussy.zip\n",
      "processed: granados.zip\n",
      "processed: grieg.zip\n",
      "could not process: haydn.zip (BadZipFile)\n",
      "could not process: liszt.zip (BadZipFile)\n",
      "could not process: mendelssohn.zip (BadZipFile)\n",
      "could not process: mozart.zip (BadZipFile)\n",
      "could not process: muss.zip (BadZipFile)\n",
      "processed: schubert.zip\n",
      "processed: schumann.zip\n",
      "processed: tschai.zip\n"
     ]
    }
   ],
   "source": [
    "import_classical_piano_music()"
   ]
  },
  {
   "cell_type": "code",
   "execution_count": null,
   "metadata": {},
   "outputs": [],
   "source": []
  }
 ],
 "metadata": {
  "file_extension": ".py",
  "kernelspec": {
   "display_name": "Python 3",
   "language": "python",
   "name": "python3"
  },
  "language_info": {
   "codemirror_mode": {
    "name": "ipython",
    "version": 3
   },
   "file_extension": ".py",
   "mimetype": "text/x-python",
   "name": "python",
   "nbconvert_exporter": "python",
   "pygments_lexer": "ipython3",
   "version": "3.6.9"
  },
  "mimetype": "text/x-python",
  "name": "python",
  "npconvert_exporter": "python",
  "pygments_lexer": "ipython3",
  "version": 3
 },
 "nbformat": 4,
 "nbformat_minor": 2
}
