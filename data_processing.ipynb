{
 "cells": [
  {
   "cell_type": "code",
   "execution_count": 1,
   "metadata": {},
   "outputs": [],
   "source": [
    "# install in conda environment\n",
    "# !conda install -c conda-forge pydub\n",
    "# !conda install -c conda-forge ffmpeg\n",
    "\n",
    "from os import path\n",
    "from pydub import AudioSegment\n",
    "import pandas as pd\n",
    "import numpy as np\n",
    "import pickle\n",
    "\n",
    "import re"
   ]
  },
  {
   "cell_type": "code",
   "execution_count": 2,
   "metadata": {},
   "outputs": [
    {
     "ename": "FileNotFoundError",
     "evalue": "[Errno 2] No such file or directory: 'Roar_of_the_Wild.mp3'",
     "output_type": "error",
     "traceback": [
      "\u001b[0;31m---------------------------------------------------------------------------\u001b[0m",
      "\u001b[0;31mFileNotFoundError\u001b[0m                         Traceback (most recent call last)",
      "\u001b[0;32m<ipython-input-2-da9a7c83ec25>\u001b[0m in \u001b[0;36m<module>\u001b[0;34m\u001b[0m\n\u001b[1;32m      6\u001b[0m \u001b[0;34m\u001b[0m\u001b[0m\n\u001b[1;32m      7\u001b[0m \u001b[0;31m# convert wav to mp3\u001b[0m\u001b[0;34m\u001b[0m\u001b[0;34m\u001b[0m\u001b[0;34m\u001b[0m\u001b[0m\n\u001b[0;32m----> 8\u001b[0;31m \u001b[0msound\u001b[0m \u001b[0;34m=\u001b[0m \u001b[0mAudioSegment\u001b[0m\u001b[0;34m.\u001b[0m\u001b[0mfrom_mp3\u001b[0m\u001b[0;34m(\u001b[0m\u001b[0msrc\u001b[0m\u001b[0;34m)\u001b[0m\u001b[0;34m\u001b[0m\u001b[0;34m\u001b[0m\u001b[0m\n\u001b[0m\u001b[1;32m      9\u001b[0m \u001b[0msound\u001b[0m\u001b[0;34m.\u001b[0m\u001b[0mexport\u001b[0m\u001b[0;34m(\u001b[0m\u001b[0mdst\u001b[0m\u001b[0;34m,\u001b[0m \u001b[0mformat\u001b[0m\u001b[0;34m=\u001b[0m\u001b[0;34m\"wav\"\u001b[0m\u001b[0;34m)\u001b[0m\u001b[0;34m\u001b[0m\u001b[0;34m\u001b[0m\u001b[0m\n",
      "\u001b[0;32m~/anaconda2/envs/490-final-project/lib/python3.6/site-packages/pydub/audio_segment.py\u001b[0m in \u001b[0;36mfrom_mp3\u001b[0;34m(cls, file, parameters)\u001b[0m\n\u001b[1;32m    714\u001b[0m     \u001b[0;34m@\u001b[0m\u001b[0mclassmethod\u001b[0m\u001b[0;34m\u001b[0m\u001b[0;34m\u001b[0m\u001b[0m\n\u001b[1;32m    715\u001b[0m     \u001b[0;32mdef\u001b[0m \u001b[0mfrom_mp3\u001b[0m\u001b[0;34m(\u001b[0m\u001b[0mcls\u001b[0m\u001b[0;34m,\u001b[0m \u001b[0mfile\u001b[0m\u001b[0;34m,\u001b[0m \u001b[0mparameters\u001b[0m\u001b[0;34m=\u001b[0m\u001b[0;32mNone\u001b[0m\u001b[0;34m)\u001b[0m\u001b[0;34m:\u001b[0m\u001b[0;34m\u001b[0m\u001b[0;34m\u001b[0m\u001b[0m\n\u001b[0;32m--> 716\u001b[0;31m         \u001b[0;32mreturn\u001b[0m \u001b[0mcls\u001b[0m\u001b[0;34m.\u001b[0m\u001b[0mfrom_file\u001b[0m\u001b[0;34m(\u001b[0m\u001b[0mfile\u001b[0m\u001b[0;34m,\u001b[0m \u001b[0;34m'mp3'\u001b[0m\u001b[0;34m,\u001b[0m \u001b[0mparameters\u001b[0m\u001b[0;34m=\u001b[0m\u001b[0mparameters\u001b[0m\u001b[0;34m)\u001b[0m\u001b[0;34m\u001b[0m\u001b[0;34m\u001b[0m\u001b[0m\n\u001b[0m\u001b[1;32m    717\u001b[0m \u001b[0;34m\u001b[0m\u001b[0m\n\u001b[1;32m    718\u001b[0m     \u001b[0;34m@\u001b[0m\u001b[0mclassmethod\u001b[0m\u001b[0;34m\u001b[0m\u001b[0;34m\u001b[0m\u001b[0m\n",
      "\u001b[0;32m~/anaconda2/envs/490-final-project/lib/python3.6/site-packages/pydub/audio_segment.py\u001b[0m in \u001b[0;36mfrom_file\u001b[0;34m(cls, file, format, codec, parameters, **kwargs)\u001b[0m\n\u001b[1;32m    608\u001b[0m         \u001b[0;32mexcept\u001b[0m \u001b[0mTypeError\u001b[0m\u001b[0;34m:\u001b[0m\u001b[0;34m\u001b[0m\u001b[0;34m\u001b[0m\u001b[0m\n\u001b[1;32m    609\u001b[0m             \u001b[0mfilename\u001b[0m \u001b[0;34m=\u001b[0m \u001b[0;32mNone\u001b[0m\u001b[0;34m\u001b[0m\u001b[0;34m\u001b[0m\u001b[0m\n\u001b[0;32m--> 610\u001b[0;31m         \u001b[0mfile\u001b[0m \u001b[0;34m=\u001b[0m \u001b[0m_fd_or_path_or_tempfile\u001b[0m\u001b[0;34m(\u001b[0m\u001b[0mfile\u001b[0m\u001b[0;34m,\u001b[0m \u001b[0;34m'rb'\u001b[0m\u001b[0;34m,\u001b[0m \u001b[0mtempfile\u001b[0m\u001b[0;34m=\u001b[0m\u001b[0;32mFalse\u001b[0m\u001b[0;34m)\u001b[0m\u001b[0;34m\u001b[0m\u001b[0;34m\u001b[0m\u001b[0m\n\u001b[0m\u001b[1;32m    611\u001b[0m \u001b[0;34m\u001b[0m\u001b[0m\n\u001b[1;32m    612\u001b[0m         \u001b[0;32mif\u001b[0m \u001b[0mformat\u001b[0m\u001b[0;34m:\u001b[0m\u001b[0;34m\u001b[0m\u001b[0;34m\u001b[0m\u001b[0m\n",
      "\u001b[0;32m~/anaconda2/envs/490-final-project/lib/python3.6/site-packages/pydub/utils.py\u001b[0m in \u001b[0;36m_fd_or_path_or_tempfile\u001b[0;34m(fd, mode, tempfile)\u001b[0m\n\u001b[1;32m     55\u001b[0m \u001b[0;34m\u001b[0m\u001b[0m\n\u001b[1;32m     56\u001b[0m     \u001b[0;32mif\u001b[0m \u001b[0misinstance\u001b[0m\u001b[0;34m(\u001b[0m\u001b[0mfd\u001b[0m\u001b[0;34m,\u001b[0m \u001b[0mbasestring\u001b[0m\u001b[0;34m)\u001b[0m\u001b[0;34m:\u001b[0m\u001b[0;34m\u001b[0m\u001b[0;34m\u001b[0m\u001b[0m\n\u001b[0;32m---> 57\u001b[0;31m         \u001b[0mfd\u001b[0m \u001b[0;34m=\u001b[0m \u001b[0mopen\u001b[0m\u001b[0;34m(\u001b[0m\u001b[0mfd\u001b[0m\u001b[0;34m,\u001b[0m \u001b[0mmode\u001b[0m\u001b[0;34m=\u001b[0m\u001b[0mmode\u001b[0m\u001b[0;34m)\u001b[0m\u001b[0;34m\u001b[0m\u001b[0;34m\u001b[0m\u001b[0m\n\u001b[0m\u001b[1;32m     58\u001b[0m \u001b[0;34m\u001b[0m\u001b[0m\n\u001b[1;32m     59\u001b[0m     \u001b[0;32mtry\u001b[0m\u001b[0;34m:\u001b[0m\u001b[0;34m\u001b[0m\u001b[0;34m\u001b[0m\u001b[0m\n",
      "\u001b[0;31mFileNotFoundError\u001b[0m: [Errno 2] No such file or directory: 'Roar_of_the_Wild.mp3'"
     ]
    }
   ],
   "source": [
    "from os import path\n",
    "from pydub import AudioSegment\n",
    "\n",
    "src = \"Roar_of_the_Wild.mp3\"\n",
    "dst = \"test.wav\"\n",
    "\n",
    "# convert wav to mp3                                                            \n",
    "sound = AudioSegment.from_mp3(src)\n",
    "sound.export(dst, format=\"wav\")"
   ]
  },
  {
   "cell_type": "code",
   "execution_count": 3,
   "metadata": {},
   "outputs": [
    {
     "name": "stderr",
     "output_type": "stream",
     "text": "/Users/estberg/anaconda2/envs/490-final-project/lib/python3.6/site-packages/IPython/core/interactiveshell.py:3058: DtypeWarning: Columns (0,1,5,6,8,12,18,20,21,22,24,33,34,38,39,44,47,49) have mixed types. Specify dtype option on import or set low_memory=False.\n  interactivity=interactivity, compiler=compiler, result=result)\n<class 'pandas.core.frame.DataFrame'>\nIndex: 106575 entries, track_id to 155320\nData columns (total 52 columns):\n(album, comments)              106574 non-null object\n(album, date_created)          103045 non-null object\n(album, date_released)         70294 non-null object\n(album, engineer)              15295 non-null object\n(album, favorites)             106574 non-null object\n(album, id)                    106574 non-null object\n(album, information)           83149 non-null object\n(album, listens)               106574 non-null object\n(album, producer)              18060 non-null object\n(album, tags)                  106574 non-null object\n(album, title)                 105549 non-null object\n(album, tracks)                106574 non-null object\n(album, type)                  100066 non-null object\n(artist, active_year_begin)    22711 non-null object\n(artist, active_year_end)      5375 non-null object\n(artist, associated_labels)    14271 non-null object\n(artist, bio)                  71156 non-null object\n(artist, comments)             106574 non-null object\n(artist, date_created)         105718 non-null object\n(artist, favorites)            106574 non-null object\n(artist, id)                   106574 non-null object\n(artist, latitude)             44544 non-null object\n(artist, location)             70210 non-null object\n(artist, longitude)            44544 non-null object\n(artist, members)              46849 non-null object\n(artist, name)                 106574 non-null object\n(artist, related_projects)     13152 non-null object\n(artist, tags)                 106574 non-null object\n(artist, website)              79256 non-null object\n(artist, wikipedia_page)       5581 non-null object\n(set, split)                   106574 non-null object\n(set, subset)                  106574 non-null object\n(track, bit_rate)              106574 non-null object\n(track, comments)              106574 non-null object\n(track, composer)              3670 non-null object\n(track, date_created)          106574 non-null object\n(track, date_recorded)         6159 non-null object\n(track, duration)              106574 non-null object\n(track, favorites)             106574 non-null object\n(track, genre_top)             49598 non-null object\n(track, genres)                106574 non-null object\n(track, genres_all)            106574 non-null object\n(track, information)           2349 non-null object\n(track, interest)              106574 non-null object\n(track, language_code)         15024 non-null object\n(track, license)               106487 non-null object\n(track, listens)               106574 non-null object\n(track, lyricist)              311 non-null object\n(track, number)                106574 non-null object\n(track, publisher)             1263 non-null object\n(track, tags)                  106574 non-null object\n(track, title)                 106573 non-null object\ndtypes: object(52)\nmemory usage: 43.1+ MB\n"
    }
   ],
   "source": [
    "import pandas as pd\n",
    "\n",
    "df = pd.read_csv('../fma_metadata/tracks.csv', header=None)\n",
    "\n",
    "# getting names for columns and index:\n",
    "cnames = zip(df.iloc[0,1:], df.iloc[1,1:])\n",
    "inames = list(df.iloc[0,:1])   \n",
    "\n",
    "#drop the rows with column names (for columns and index)\n",
    "df.drop([0,1],axis=0,inplace=True)\n",
    "#set the indexes\n",
    "df.set_index([0],inplace=True)\n",
    "# set the names for columns and indexes\n",
    "df.columns = pd.MultiIndex.from_tuples(cnames)\n",
    "df.index.names = inames\n",
    "\n",
    "df['set', 'subset'].head()\n",
    " \n",
    "#df = df[(df['set', 'subset'] == 'small') | (df['set', 'subset'] == 'medium') | (df['set', 'subset'] == 'large')]\n",
    "\n",
    "df.info()"
   ]
  },
  {
   "cell_type": "code",
   "execution_count": 4,
   "metadata": {},
   "outputs": [
    {
     "name": "stderr",
     "output_type": "stream",
     "text": "/Users/estberg/anaconda2/envs/490-final-project/lib/python3.6/site-packages/pandas/core/indexing.py:205: SettingWithCopyWarning: \nA value is trying to be set on a copy of a slice from a DataFrame\n\nSee the caveats in the documentation: http://pandas.pydata.org/pandas-docs/stable/user_guide/indexing.html#returning-a-view-versus-a-copy\n  self._setitem_with_indexer(indexer, value)\n"
    }
   ],
   "source": [
    "# adds an is_classical column\n",
    "df['track', 'is_classical'] = False\n",
    "count = 0\n",
    "for i in range(1, len(df)):\n",
    "    res = df['track', 'genres_all'].iloc[i].strip('][').split(', ')\n",
    "    if ('5' in res):\n",
    "        df['track', 'is_classical'].iloc[i] = True\n",
    "        count += 1"
   ]
  },
  {
   "cell_type": "code",
   "execution_count": 7,
   "metadata": {},
   "outputs": [
    {
     "name": "stdout",
     "output_type": "stream",
     "text": "4106\ninitial data length:  1298\nfinal data length:  1595\nperiod length:  794\n[nan 'Robert Schumann' 'Georges Bizet' 'Ludwig van Beethoven'\n 'Modest Mussorgsky' 'Brahms' 'Mozart' 'Schubert' 'Bach' 'Beethoven'\n 'Grieg' 'No Regrets For Our Youth' 'Kenneth Kirschner' 'Henry Purcell'\n \"Sigismondo D'India\" 'Tarquinio merula' 'Barbara Strozzi'\n 'Girolamo Frescobaldi' 'Igor Ballereau' 'Paganini' 'Chopin' 'Liszt'\n 'Debussy' 'Mussorgsky' 'Ives' 'Dvořák' 'Rachmaninoff' 'Schumann' 'Bartok'\n 'Albinoni' 'Satie' 'Michael Tilson Thomas' 'Claude Debussy' 'Mendelssohn'\n 'Cooper-Moore' 'Charles-Valentin Alkan' 'James Beaudreau'\n 'Orlando Gibbons' 'William Byrd' 'G P da Palestrina'\n 'Jacobus Clemens non Papa' 'Claudio Monteverdi' 'Alonso Lobo'\n 'Thomas Tallis' 'Cipriano de Rore' 'Annibale Stabile'\n 'Alfonso Ferrabosco' 'Tomas Luis de Victoria' 'Giovanni Animuccia'\n ' G P da Palestrina' 'Palestrina' 'Pizzetti' 'Strauss' 'Camille'\n 'Vivaldi' 'Igor Stravinsky' 'Bizet' 'Haydn' 'Maurice Ravel'\n 'Wolfgang Amadeus Mozart' 'Felix Mendelssohn'\n 'Berkeley Castle, Select Roll 55, England, 14th Century' 'Handel'\n 'Monteverdi' 'Larry Austin' 'Carl Orff' 'Wagner' 'Tchaikovsky'\n 'Chris Zabriskie' 'Johann Sebastian Bach'\n 'Claude Debussy (arr. Paula Robison)' 'Johann Pachelbel' 'J.S. Bach'\n 'Jared C. Balogh' 'Ravel' 'David Anderson' 'Charles Ives' 'Janáček'\n 'Wolf' 'JARED C. BALOGH' 'Corelli' 'Dvorak' 'Purcell' 'Steven Arntson'\n 'Franz Danzi' 'Chad Crouch' 'Textile Audio' 'Kosta T' 'Konstantin Trokai'\n 'Konstantin Trokai ' 'Strozzi' 'Craig Shepard' 'konstantin trokai' 'Papa'\n 'kosta t' 'Pachelbel' 'Denitsa Mineva &amp; Kosta T' 'konstantin trokay'\n 'Franz Joseph Haydn' 'Denitsa Mineva &amp; Konstantin Trokai'\n 'zinaida trokai' 'Kai Engel' 'Harsanyi Laszlo' 'Spohr'\n 'Matthew McGilvery' 'Matthew McGIlvery' 'Zinaida Trokai'\n 'kosta t ft. A-a' 'Alexander Naumov']\n          track                                                              \n       composer                                  title comp_from_title period\nnan                                                                          \n1865        NaN               Tleilaxuburg5 Movement I             NaN   None\n1867        NaN              Tleilaxuburg5 Movement II             NaN   None\n1869        NaN             Tleilaxuburg5 Movement III             NaN   None\n1871        NaN              Tleilaxuburg5 Movement IV             NaN   None\n1873        NaN               Tleilaxuburg5 Movement V             NaN   None\n...         ...                                    ...             ...    ...\n155116      NaN                                 Seeker             NaN   None\n155119      NaN                    He Who Destroys All             NaN   None\n155204      NaN  Goodnight Esme (Instrumental version)             NaN   None\n155205      NaN            Ode to a Blenheim cormorant             NaN   None\n155206      NaN                   Three kites circling             NaN   None\n\n[4106 rows x 4 columns]\n"
    }
   ],
   "source": [
    "def map_regex(dict, text):\n",
    "\n",
    "    regex = re.compile(\"(%s)\" % \"|\".join(map(re.escape, dict.keys())), flags=re.IGNORECASE)\n",
    "\n",
    "    if regex.search(text):\n",
    "        ret = regex.search(text)\n",
    "        return dict[ret.group()]\n",
    "    else:\n",
    "        return None\n",
    "\n",
    "pd.set_option('display.max_rows', 1000)\n",
    "#classical = df[df['track', 'genre_top'] == 'Classical']\n",
    "classical = df[df['track', 'is_classical'] == True]\n",
    "print(len(classical))\n",
    "\n",
    "info = pd.concat([classical['track', 'composer'], classical['track', 'title']], axis=1)\n",
    "print(\"initial data length: \", len(info[info['track', 'composer'].notnull()]))\n",
    "\n",
    "contain_composers = [r'.*Bach.*', r'.*Brahms.*', r'.*Mozart.*', r'.*Schubert.*', r'.*Beethoven.*', r'.*Paganini.*', r'.*Chopin.*', r'.*Grieg.*', r'.*Debussy.*', r'.*Mussorgsky.*', r'.*Liszt.*', r'.*Rachmaninoff.*', r'.*Schumann.*', r'.*Mendelssohn.*', r'.*Alkan.*', r'.*Vivaldi.*', r'.*Wagner.*', r'.*Satie.*', r'.*Camille.*', r'.*Pachelbel.*', r'.*Palestrina.*', r'.*Pizzetti.*', r'.*Bizet.*', r'.*Tchaikovsky.*', r'.*Dvorak.*', r'.*Handel.*', r'.*Bartok.*', r'.*Corelli.*', r'.*Albinoni.*', r'.*Ravel.*', r'.*Spohr.*', r'.*Cambini.*', r'.*Haydn.*', r'.*Faure.*', r'.*Schumann.*', r'.*Kirschner.*', r'.*Purcell.*', r'.*Sigismondo.*', r'.*Merula.*', r'.*Strozzi.*', r'.*Frescobaldi.*', r'.*Paganini.*', r'.*Gibbons.*', r'.*Byrd.*', r'.*Papa.*', r'.*Monteverdi.*', r'.*Lobo.*', r'.*Tallis.*', r'.*Rore.*', r'.*Stabile.*', r'.*Ferrabosco.*', r'.*Dvořák.*', r'.*Victoria.*', r'.*Animuccia.*', r'.*Ives.*', r'.*Janáček.*', r'.*Wolf.*', r'.*Danzi.*']\n",
    "composers = ['Bach', 'Brahms', 'Mozart', 'Schubert', 'Beethoven', 'Paganini', 'Chopin', 'Grieg', 'Debussy', 'Mussorgsky', 'Liszt', 'Rachmaninoff', 'Schumann', 'Mendelssohn', 'Alkan', 'Vivaldi', 'Wagner', 'Satie', 'Camille', 'Pachelbel', 'Palestrina', 'Pizzetti', 'Bizet', 'Tchaikovsky', 'Dvorak', 'Handel', 'Bartok', 'Corelli', 'Albinoni', 'Ravel', 'Spohr', 'Cambini', 'Haydn', 'Faure', 'Schumann', 'Kirschner', 'Purcell', 'Sigismondo', 'Merula', 'Strozzi', 'Frescobaldi', 'Paganini', 'Gibbons', 'Byrd', 'Papa', 'Monteverdi', 'Lobo', 'Tallis', 'Rore', 'Stabile', 'Ferrabosco', 'Dvořák', 'Victoria', 'Animuccia', 'Ives', 'Janáček', 'Wolf', 'Danzi']\n",
    "composer_to_period = {\n",
    "    \"Albinoni\": \"Bar\",\n",
    "    \"Alkan\": \"Rom\",\n",
    "    \"Animuccia\": \"Ren\",\n",
    "    \"Bach\": \"Bar\",\n",
    "    \"Bartok\": \"Mod\",\n",
    "    \"Beethoven\": \"Cla\",\n",
    "    \"Bizet\": \"Rom\",\n",
    "    \"Brahms\": \"Rom\",\n",
    "    \"Byrd\": \"Bar\",\n",
    "    \"Cambini\": \"Cla\",\n",
    "    \"Camille\": \"Rom\", # Saint-Saens?\n",
    "    \"Chopin\": \"Rom\",\n",
    "    \"Corelli\": \"Bar\",\n",
    "    \"Danzi\": \"Cla\",\n",
    "    \"Debussy\": \"Rom\",\n",
    "    \"Dvorak\": \"Rom\",\n",
    "    \"Dvořák\": \"Rom\",\n",
    "    \"Faure\": \"Rom\",\n",
    "    \"Ferrabosco\": \"Bar\",\n",
    "    \"Frescobaldi\": \"Bar\",\n",
    "    \"Gibbons\": \"Bar\",\n",
    "    \"Grieg\": \"Rom\",\n",
    "    \"Handel\": \"Cla\",\n",
    "    \"Haydn\": \"Cla\",\n",
    "    \"Ives\": \"Mod\",\n",
    "    \"Janáček\": \"Rom\",\n",
    "    \"Kirschner\": \"Mod\", #Experimental Classical\n",
    "    \"Liszt\": \"Rom\",\n",
    "    \"Lobo\": \"Bar\",\n",
    "    \"Mendelssohn\": \"Rom\",\n",
    "    \"merula\": \"Bar\",\n",
    "    \"Monteverdi\": \"Bar\",\n",
    "    \"Mozart\": \"Cla\",\n",
    "    \"Mussorgsky\": \"Rom\",\n",
    "    \"Pachelbel\": \"Cla\",\n",
    "    \"Paganini\": \"Cla\",\n",
    "    \"Paganini\": \"Cla\",\n",
    "    \"Palestrina\": \"Ren\",\n",
    "    \"Papa\": \"Ren\",\n",
    "    \"Pizzetti\": \"Mod\",\n",
    "    \"Purcell\": \"Bar\",\n",
    "    \"Rachmaninoff\": \"Rom\",\n",
    "    \"Ravel\": \"Mod\",\n",
    "    \"Rore\": \"Ren\",\n",
    "    \"Satie\": \"Rom\",\n",
    "    \"Schubert\": \"Rom\",\n",
    "    \"Schumann\": \"Rom\",\n",
    "    \"Schumann\": \"Rom\",\n",
    "    \"Sigismondo\": \"Bar\", #Sigismondo D'India\n",
    "    \"Spohr\": \"Rom\",\n",
    "    \"Stabile\": \"Ren\",\n",
    "    \"Strozzi\": \"Bar\",\n",
    "    \"Tallis\": \"Ren\",\n",
    "    \"Tchaikovsky\": \"Rom\",\n",
    "    \"Victoria\": \"Ren\",\n",
    "    \"Vivaldi\": \"Cla\",\n",
    "    \"Wagner\": \"Rom\",\n",
    "    \"Wolf\": \"Rom\"\n",
    "}\n",
    "\n",
    "info['track', 'comp_from_title'] = info['track', 'title'].replace(contain_composers, composers, regex=True)\n",
    "info['track', 'comp_from_title'].loc[~info['track', 'comp_from_title'].isin(composers)] = np.NaN\n",
    "info['track', 'composer'] = info['track', 'composer'].fillna(info['track', 'comp_from_title'])\n",
    "info['track', 'period'] = info['track', 'composer'].apply(lambda v: map_regex(composer_to_period, str(v)))\n",
    "\n",
    "print(\"final data length: \", len(info[info['track', 'composer'].notnull()]))\n",
    "print(\"period length: \", len(info[info['track', 'period'].notnull()]))\n",
    "\n",
    "print(info['track', 'composer'].unique())\n",
    "\n",
    "print(info)\n",
    "info.to_csv(\"track_info.csv\")\n",
    "\n",
    "file_path = 'track_info.pkl'\n",
    "labels_file = open(file_path,'wb')\n",
    "pickle.dump(info, labels_file)\n",
    "labels_file.close()\n"
   ]
  },
  {
   "cell_type": "code",
   "execution_count": 8,
   "metadata": {},
   "outputs": [],
   "source": [
    "metadata_url = \"https://homes.cs.washington.edu/~thickstn/media/musicnet_metadata.csv\"\n",
    "\n",
    "composer_to_period = {\n",
    "    \"Schubert\": \"Rom\", \n",
    "    \"Mozart\": \"Cla\", \n",
    "    \"Dvorak\": \"Rom\",\n",
    "    \"Cambini\": \"Cla\", \n",
    "    \"Haydn\": \"Cla\", \n",
    "    \"Brahms\": \"Rom\", \n",
    "    \"Faure\": \"Rom\", \n",
    "    \"Ravel\": \"Mod\", \n",
    "    \"Bach\": \"Bar\", \n",
    "    \"Beethoven\": \"Cla\"\n",
    "    }\n",
    "\n",
    "musicnet = pd.read_csv(metadata_url)\n",
    "musicnet['period'] = musicnet['composer'].map(composer_to_period)\n",
    "\n",
    "# create pkl file mapping file id to time period\n",
    "file_path = 'musicnet_labels.pkl'\n",
    "id_to_period = musicnet.set_index('id')['period'].to_dict()\n",
    "labels_file = open(file_path,'wb')\n",
    "pickle.dump(id_to_period, labels_file)\n",
    "labels_file.close()"
   ]
  },
  {
   "cell_type": "code",
   "execution_count": 37,
   "metadata": {},
   "outputs": [
    {
     "name": "stdout",
     "output_type": "stream",
     "text": [
      "{1727: 'Rom', 1728: 'Rom', 1729: 'Rom', 1730: 'Rom', 1733: 'Rom', 1734: 'Rom', 1735: 'Rom', 1739: 'Rom', 1742: 'Rom', 1749: 'Rom', 1750: 'Rom', 1751: 'Rom', 1752: 'Rom', 1755: 'Rom', 1756: 'Rom', 1757: 'Rom', 1758: 'Rom', 1759: 'Rom', 1760: 'Rom', 1763: 'Rom', 1764: 'Rom', 1765: 'Rom', 1766: 'Rom', 1768: 'Rom', 1771: 'Rom', 1772: 'Rom', 1773: 'Rom', 1775: 'Rom', 1776: 'Rom', 1777: 'Rom', 1788: 'Cla', 1789: 'Cla', 1790: 'Cla', 1791: 'Cla', 1792: 'Cla', 1793: 'Cla', 1805: 'Cla', 1807: 'Cla', 1811: 'Cla', 1812: 'Cla', 1813: 'Cla', 1817: 'Cla', 1818: 'Cla', 1819: 'Cla', 1822: 'Cla', 1824: 'Cla', 1828: 'Cla', 1829: 'Cla', 1835: 'Cla', 1859: 'Cla', 1872: 'Cla', 1873: 'Cla', 1876: 'Cla', 1893: 'Cla', 1916: 'Rom', 1918: 'Rom', 1919: 'Rom', 1922: 'Rom', 1923: 'Rom', 1931: 'Rom', 1932: 'Rom', 1933: 'Rom', 2075: 'Cla', 2076: 'Cla', 2077: 'Cla', 2078: 'Cla', 2079: 'Cla', 2080: 'Cla', 2081: 'Cla', 2082: 'Cla', 2083: 'Cla', 2104: 'Cla', 2105: 'Cla', 2106: 'Cla', 2112: 'Rom', 2113: 'Rom', 2114: 'Rom', 2116: 'Rom', 2117: 'Rom', 2118: 'Rom', 2119: 'Rom', 2127: 'Rom', 2131: 'Rom', 2138: 'Rom', 2140: 'Rom', 2147: 'Rom', 2148: 'Rom', 2149: 'Rom', 2150: 'Rom', 2151: 'Rom', 2154: 'Rom', 2155: 'Rom', 2156: 'Rom', 2157: 'Rom', 2158: 'Rom', 2159: 'Rom', 2160: 'Rom', 2161: 'Rom', 2166: 'Rom', 2167: 'Rom', 2168: 'Rom', 2169: 'Rom', 2177: 'Mod', 2178: 'Mod', 2179: 'Mod', 2180: 'Mod', 2186: 'Bar', 2191: 'Bar', 2194: 'Bar', 2195: 'Bar', 2196: 'Bar', 2198: 'Bar', 2200: 'Bar', 2201: 'Bar', 2202: 'Bar', 2203: 'Bar', 2204: 'Bar', 2207: 'Bar', 2208: 'Bar', 2209: 'Bar', 2210: 'Bar', 2211: 'Bar', 2212: 'Bar', 2213: 'Bar', 2214: 'Bar', 2215: 'Bar', 2217: 'Bar', 2218: 'Bar', 2219: 'Bar', 2220: 'Bar', 2221: 'Bar', 2222: 'Bar', 2224: 'Bar', 2225: 'Bar', 2227: 'Bar', 2228: 'Bar', 2229: 'Bar', 2230: 'Bar', 2231: 'Bar', 2232: 'Bar', 2234: 'Bar', 2237: 'Bar', 2238: 'Bar', 2239: 'Bar', 2240: 'Bar', 2241: 'Bar', 2242: 'Bar', 2243: 'Bar', 2244: 'Bar', 2247: 'Bar', 2248: 'Bar', 2282: 'Bar', 2283: 'Bar', 2284: 'Bar', 2285: 'Bar', 2288: 'Bar', 2289: 'Bar', 2292: 'Bar', 2293: 'Bar', 2294: 'Bar', 2295: 'Bar', 2296: 'Bar', 2297: 'Bar', 2298: 'Bar', 2300: 'Bar', 2302: 'Bar', 2303: 'Bar', 2304: 'Bar', 2305: 'Bar', 2307: 'Bar', 2308: 'Bar', 2310: 'Bar', 2313: 'Cla', 2314: 'Cla', 2315: 'Cla', 2318: 'Cla', 2319: 'Cla', 2320: 'Cla', 2322: 'Cla', 2325: 'Cla', 2330: 'Cla', 2334: 'Cla', 2335: 'Cla', 2336: 'Cla', 2341: 'Cla', 2342: 'Cla', 2343: 'Cla', 2345: 'Cla', 2346: 'Cla', 2348: 'Cla', 2350: 'Cla', 2357: 'Cla', 2358: 'Cla', 2359: 'Cla', 2364: 'Cla', 2365: 'Cla', 2366: 'Cla', 2368: 'Cla', 2371: 'Cla', 2372: 'Cla', 2373: 'Cla', 2374: 'Cla', 2376: 'Cla', 2377: 'Cla', 2379: 'Cla', 2381: 'Cla', 2382: 'Cla', 2383: 'Cla', 2384: 'Cla', 2388: 'Cla', 2389: 'Cla', 2390: 'Cla', 2391: 'Cla', 2392: 'Cla', 2393: 'Cla', 2397: 'Cla', 2398: 'Cla', 2403: 'Cla', 2404: 'Cla', 2405: 'Cla', 2406: 'Cla', 2410: 'Cla', 2411: 'Cla', 2415: 'Cla', 2416: 'Cla', 2417: 'Cla', 2420: 'Cla', 2422: 'Cla', 2423: 'Cla', 2424: 'Cla', 2431: 'Cla', 2432: 'Cla', 2433: 'Cla', 2436: 'Cla', 2441: 'Cla', 2442: 'Cla', 2443: 'Cla', 2444: 'Cla', 2451: 'Cla', 2462: 'Cla', 2463: 'Cla', 2466: 'Cla', 2471: 'Cla', 2472: 'Cla', 2473: 'Cla', 2476: 'Cla', 2477: 'Cla', 2478: 'Cla', 2480: 'Cla', 2481: 'Cla', 2482: 'Cla', 2483: 'Cla', 2486: 'Cla', 2487: 'Cla', 2488: 'Cla', 2490: 'Cla', 2491: 'Cla', 2492: 'Cla', 2494: 'Cla', 2497: 'Cla', 2501: 'Cla', 2502: 'Cla', 2504: 'Cla', 2505: 'Cla', 2506: 'Cla', 2507: 'Cla', 2509: 'Cla', 2510: 'Cla', 2512: 'Cla', 2514: 'Cla', 2516: 'Cla', 2521: 'Cla', 2522: 'Cla', 2523: 'Cla', 2527: 'Cla', 2528: 'Cla', 2529: 'Cla', 2530: 'Cla', 2531: 'Cla', 2532: 'Cla', 2533: 'Cla', 2537: 'Cla', 2538: 'Cla', 2540: 'Cla', 2542: 'Cla', 2550: 'Cla', 2555: 'Cla', 2556: 'Cla', 2557: 'Cla', 2560: 'Cla', 2562: 'Cla', 2564: 'Cla', 2566: 'Cla', 2567: 'Cla', 2568: 'Cla', 2570: 'Cla', 2571: 'Cla', 2572: 'Cla', 2573: 'Cla', 2575: 'Cla', 2576: 'Cla', 2581: 'Cla', 2582: 'Cla', 2586: 'Cla', 2588: 'Cla', 2590: 'Cla', 2591: 'Cla', 2593: 'Cla', 2594: 'Cla', 2595: 'Cla', 2596: 'Cla', 2603: 'Cla', 2607: 'Cla', 2608: 'Cla', 2611: 'Cla', 2614: 'Cla', 2618: 'Cla', 2619: 'Cla', 2620: 'Cla', 2621: 'Cla', 2622: 'Cla', 2626: 'Cla', 2627: 'Cla', 2628: 'Cla', 2629: 'Cla', 2632: 'Cla', 2633: 'Cla', 2659: 'Bar', 2677: 'Cla', 2678: 'Cla'}\n"
     ]
    }
   ],
   "source": [
    "# read file\n",
    "filename = \"musicnet_labels.pkl\"\n",
    "with open(filename, 'rb') as handle:\n",
    "    id2label = pickle.load(handle)\n",
    "    \n",
    "print(id2label)"
   ]
  }
 ],
 "metadata": {
  "kernelspec": {
   "display_name": "Python 3",
   "language": "python",
   "name": "python3"
  },
  "language_info": {
   "codemirror_mode": {
    "name": "ipython",
    "version": 3
   },
   "file_extension": ".py",
   "mimetype": "text/x-python",
   "name": "python",
   "nbconvert_exporter": "python",
   "pygments_lexer": "ipython3",
   "version": "3.6.9"
  }
 },
 "nbformat": 4,
 "nbformat_minor": 2
}