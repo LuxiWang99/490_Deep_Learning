{
 "cells": [
  {
   "cell_type": "code",
   "execution_count": 13,
   "metadata": {},
   "outputs": [],
   "source": [
    "# install in conda environment\n",
    "# !conda install -c conda-forge pydub\n",
    "# !conda install -c conda-forge ffmpeg\n",
    "\n",
    "from os import path\n",
    "from pydub import AudioSegment\n",
    "import pandas as pd\n",
    "import numpy as np\n",
    "import pickle"
   ]
  },
  {
   "cell_type": "code",
   "execution_count": 6,
   "metadata": {},
   "outputs": [
    {
     "data": {
      "text/plain": [
       "<_io.BufferedRandom name='test.wav'>"
      ]
     },
     "execution_count": 6,
     "metadata": {},
     "output_type": "execute_result"
    }
   ],
   "source": [
    "from os import path\n",
    "from pydub import AudioSegment\n",
    "\n",
    "src = \"Roar_of_the_Wild.mp3\"\n",
    "dst = \"test.wav\"\n",
    "\n",
    "# convert wav to mp3                                                            \n",
    "sound = AudioSegment.from_mp3(src)\n",
    "sound.export(dst, format=\"wav\")"
   ]
  },
  {
   "cell_type": "code",
   "execution_count": 17,
   "metadata": {
    "scrolled": true
   },
   "outputs": [
    {
     "name": "stdout",
     "output_type": "stream",
     "text": [
      "<class 'pandas.core.frame.DataFrame'>\n",
      "Index: 106575 entries, track_id to 155320\n",
      "Data columns (total 52 columns):\n",
      "(album, comments)              106574 non-null object\n",
      "(album, date_created)          103045 non-null object\n",
      "(album, date_released)         70294 non-null object\n",
      "(album, engineer)              15295 non-null object\n",
      "(album, favorites)             106574 non-null object\n",
      "(album, id)                    106574 non-null object\n",
      "(album, information)           83149 non-null object\n",
      "(album, listens)               106574 non-null object\n",
      "(album, producer)              18060 non-null object\n",
      "(album, tags)                  106574 non-null object\n",
      "(album, title)                 105549 non-null object\n",
      "(album, tracks)                106574 non-null object\n",
      "(album, type)                  100066 non-null object\n",
      "(artist, active_year_begin)    22711 non-null object\n",
      "(artist, active_year_end)      5375 non-null object\n",
      "(artist, associated_labels)    14271 non-null object\n",
      "(artist, bio)                  71156 non-null object\n",
      "(artist, comments)             106574 non-null object\n",
      "(artist, date_created)         105718 non-null object\n",
      "(artist, favorites)            106574 non-null object\n",
      "(artist, id)                   106574 non-null object\n",
      "(artist, latitude)             44544 non-null object\n",
      "(artist, location)             70210 non-null object\n",
      "(artist, longitude)            44544 non-null object\n",
      "(artist, members)              46849 non-null object\n",
      "(artist, name)                 106574 non-null object\n",
      "(artist, related_projects)     13152 non-null object\n",
      "(artist, tags)                 106574 non-null object\n",
      "(artist, website)              79256 non-null object\n",
      "(artist, wikipedia_page)       5581 non-null object\n",
      "(set, split)                   106574 non-null object\n",
      "(set, subset)                  106574 non-null object\n",
      "(track, bit_rate)              106574 non-null object\n",
      "(track, comments)              106574 non-null object\n",
      "(track, composer)              3670 non-null object\n",
      "(track, date_created)          106574 non-null object\n",
      "(track, date_recorded)         6159 non-null object\n",
      "(track, duration)              106574 non-null object\n",
      "(track, favorites)             106574 non-null object\n",
      "(track, genre_top)             49598 non-null object\n",
      "(track, genres)                106574 non-null object\n",
      "(track, genres_all)            106574 non-null object\n",
      "(track, information)           2349 non-null object\n",
      "(track, interest)              106574 non-null object\n",
      "(track, language_code)         15024 non-null object\n",
      "(track, license)               106487 non-null object\n",
      "(track, listens)               106574 non-null object\n",
      "(track, lyricist)              311 non-null object\n",
      "(track, number)                106574 non-null object\n",
      "(track, publisher)             1263 non-null object\n",
      "(track, tags)                  106574 non-null object\n",
      "(track, title)                 106573 non-null object\n",
      "dtypes: object(52)\n",
      "memory usage: 43.1+ MB\n"
     ]
    }
   ],
   "source": [
    "import pandas as pd\n",
    "\n",
    "df = pd.read_csv('../fma_metadata/tracks.csv', header=None)\n",
    "\n",
    "# getting names for columns and index:\n",
    "cnames = zip(df.iloc[0,1:], df.iloc[1,1:])\n",
    "inames = list(df.iloc[0,:1])   \n",
    "\n",
    "#drop the rows with column names (for columns and index)\n",
    "df.drop([0,1],axis=0,inplace=True)\n",
    "#set the indexes\n",
    "df.set_index([0],inplace=True)\n",
    "# set the names for columns and indexes\n",
    "df.columns = pd.MultiIndex.from_tuples(cnames)\n",
    "df.index.names = inames\n",
    "\n",
    "df['set', 'subset'].head()\n",
    " \n",
    "#df = df[(df['set', 'subset'] == 'small') | (df['set', 'subset'] == 'medium') | (df['set', 'subset'] == 'large')]\n",
    "\n",
    "df.info()"
   ]
  },
  {
   "cell_type": "code",
   "execution_count": 35,
   "metadata": {},
   "outputs": [],
   "source": [
    "# adds an is_classical column\n",
    "df['track', 'is_classical'] = False\n",
    "count = 0\n",
    "for i in range(1, len(df)):\n",
    "    res = df['track', 'genres_all'].iloc[i].strip('][').split(', ')\n",
    "    if ('5' in res):\n",
    "        df['track', 'is_classical'].iloc[i] = True\n",
    "        count += 1"
   ]
  },
  {
   "cell_type": "code",
   "execution_count": 1,
   "metadata": {},
   "outputs": [
    {
     "ename": "NameError",
     "evalue": "name 'pd' is not defined",
     "output_type": "error",
     "traceback": [
      "\u001b[1;31m---------------------------------------------------------------------------\u001b[0m",
      "\u001b[1;31mNameError\u001b[0m                                 Traceback (most recent call last)",
      "\u001b[1;32m<ipython-input-1-8296da466eb9>\u001b[0m in \u001b[0;36m<module>\u001b[1;34m\u001b[0m\n\u001b[1;32m----> 1\u001b[1;33m \u001b[0mpd\u001b[0m\u001b[1;33m.\u001b[0m\u001b[0mset_option\u001b[0m\u001b[1;33m(\u001b[0m\u001b[1;34m'display.max_rows'\u001b[0m\u001b[1;33m,\u001b[0m \u001b[1;36m1000\u001b[0m\u001b[1;33m)\u001b[0m\u001b[1;33m\u001b[0m\u001b[1;33m\u001b[0m\u001b[0m\n\u001b[0m\u001b[0;32m      2\u001b[0m \u001b[1;31m#classical = df[df['track', 'genre_top'] == 'Classical']\u001b[0m\u001b[1;33m\u001b[0m\u001b[1;33m\u001b[0m\u001b[1;33m\u001b[0m\u001b[0m\n\u001b[0;32m      3\u001b[0m \u001b[0mclassical\u001b[0m \u001b[1;33m=\u001b[0m \u001b[0mdf\u001b[0m\u001b[1;33m[\u001b[0m\u001b[0mdf\u001b[0m\u001b[1;33m[\u001b[0m\u001b[1;34m'track'\u001b[0m\u001b[1;33m,\u001b[0m \u001b[1;34m'is_classical'\u001b[0m\u001b[1;33m]\u001b[0m \u001b[1;33m==\u001b[0m \u001b[1;32mTrue\u001b[0m\u001b[1;33m]\u001b[0m\u001b[1;33m\u001b[0m\u001b[1;33m\u001b[0m\u001b[0m\n\u001b[0;32m      4\u001b[0m \u001b[0mprint\u001b[0m\u001b[1;33m(\u001b[0m\u001b[0mlen\u001b[0m\u001b[1;33m(\u001b[0m\u001b[0mclassical\u001b[0m\u001b[1;33m)\u001b[0m\u001b[1;33m)\u001b[0m\u001b[1;33m\u001b[0m\u001b[1;33m\u001b[0m\u001b[0m\n\u001b[0;32m      5\u001b[0m \u001b[1;33m\u001b[0m\u001b[0m\n",
      "\u001b[1;31mNameError\u001b[0m: name 'pd' is not defined"
     ]
    }
   ],
   "source": [
    "pd.set_option('display.max_rows', 1000)\n",
    "#classical = df[df['track', 'genre_top'] == 'Classical']\n",
    "classical = df[df['track', 'is_classical'] == True]\n",
    "print(len(classical))\n",
    "\n",
    "info = pd.concat([classical['track', 'composer'], classical['track', 'title']], axis=1)\n",
    "print(\"initial data length: \", len(info[info['track', 'composer'].notnull()]))\n",
    "\n",
    "contain_composers = [r'.*Bach.*', r'.*Brahms.*', r'.*Mozart.*', r'.*Schubert.*', r'.*Beethoven.*', r'.*Paganini.*', r'.*Chopin.*', r'.*Grieg.*', r'.*Debussy.*', r'.*Mussorgsky.*', r'.*Liszt.*', r'.*Rachmaninoff.*', r'.*Schumann.*', r'.*Mendelssohn.*', r'.*Alkan.*', r'.*Vivaldi.*', r'.*Wagner.*', r'.*Satie.*', r'.*Camille.*', r'.*Pachelbel.*', r'.*Palestrina.*', r'.*Pizzetti.*', r'.*Bizet.*', r'.*Tchaikovsky.*', r'.*Dvorak.*', r'.*Handel.*', r'.*Bartok.*', r'.*Corelli.*', r'.*Albinoni.*', r'.*Ravel.*', r'.*Spohr.*']\n",
    "composers = ['Bach', 'Brahms', 'Mozart', 'Schubert', 'Beethoven', 'Paganini', 'Chopin', 'Grieg', 'Debussy', 'Mussorgsky', 'Liszt', 'Rachmaninoff', 'Schumann', 'Mendelssohn', 'Alkan', 'Vivaldi', 'Wagner', 'Satie', 'Camille', 'Pachelbel', 'Palestrina', 'Pizzetti', 'Bizet', 'Tchaikovsky', 'Dvorak', 'Handel', 'Bartok', 'Corelli', 'Albinoni', 'Ravel', 'Spohr']\n",
    "\n",
    "info['track', 'comp_from_title'] = info['track', 'title'].replace(contain_composers, composers, regex=True)\n",
    "info['track', 'comp_from_title'].loc[~info['track', 'comp_from_title'].isin(composers)] = np.NaN\n",
    "info['track', 'composer'] = info['track', 'composer'].fillna(info['track', 'comp_from_title'])\n",
    "\n",
    "print(\"final data length: \", len(info[info['track', 'composer'].notnull()]))\n",
    "\n",
    "print(info)\n",
    "info.to_csv(\"track_info.csv\")\n"
   ]
  },
  {
   "cell_type": "code",
   "execution_count": 27,
   "metadata": {},
   "outputs": [],
   "source": [
    "metadata_url = \"https://homes.cs.washington.edu/~thickstn/media/musicnet_metadata.csv\"\n",
    "\n",
    "composer_to_period = {\n",
    "    \"Schubert\": \"Rom\", \n",
    "    \"Mozart\": \"Cla\", \n",
    "    \"Dvorak\": \"Rom\",\n",
    "    \"Cambini\": \"Cla\", \n",
    "    \"Haydn\": \"Cla\", \n",
    "    \"Brahms\": \"Rom\", \n",
    "    \"Faure\": \"Rom\", \n",
    "    \"Ravel\": \"Mod\", \n",
    "    \"Bach\": \"Bar\", \n",
    "    \"Beethoven\": \"Cla\"\n",
    "    }\n",
    "\n",
    "musicnet = pd.read_csv(metadata_url)\n",
    "musicnet['period'] = musicnet['composer'].map(composer_to_period)\n",
    "\n",
    "# create pkl file mapping file id to time period\n",
    "file_path = 'musicnet_labels'\n",
    "id_to_period = musicnet.set_index('id')['period'].to_dict()\n",
    "labels_file = open(file_path,'wb')\n",
    "pickle.dump(id_to_period, labels_file)\n",
    "labels_file.close()"
   ]
  },
  {
   "cell_type": "code",
   "execution_count": 28,
   "metadata": {},
   "outputs": [],
   "source": [
    "# read file\n",
    "with open(file_path, 'rb') as handle:\n",
    "    id2label = pickle.load(handle)"
   ]
  }
 ],
 "metadata": {
  "kernelspec": {
   "display_name": "Python 3",
   "language": "python",
   "name": "python3"
  },
  "language_info": {
   "codemirror_mode": {
    "name": "ipython",
    "version": 3
   },
   "file_extension": ".py",
   "mimetype": "text/x-python",
   "name": "python",
   "nbconvert_exporter": "python",
   "pygments_lexer": "ipython3",
   "version": "3.6.9"
  }
 },
 "nbformat": 4,
 "nbformat_minor": 2
}
